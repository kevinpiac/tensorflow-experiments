{
 "cells": [
  {
   "cell_type": "markdown",
   "metadata": {},
   "source": [
    "# Linear Regression\n",
    "\n",
    "Problem: We often hear insurance companies using factors such as number of fire and theft in\n",
    "a neighborhood to calculate how dangerous the neighborhood is. My question is: is it\n",
    "redundant? Is there a relationship between the number of fire and theft in a neighborhood, and if\n",
    "there is, can we find it?\n",
    "\n",
    "Source: https://web.stanford.edu/class/cs20si/syllabus.html"
   ]
  },
  {
   "cell_type": "code",
   "execution_count": 5,
   "metadata": {},
   "outputs": [],
   "source": [
    "# Import dep\n",
    "\n",
    "import numpy as np\n",
    "import tensorflow as tf\n",
    "import matplotlib.pyplot as plt\n",
    "import xlrd"
   ]
  },
  {
   "cell_type": "markdown",
   "metadata": {},
   "source": [
    "## Test 1: Chicago fire and thieft"
   ]
  },
  {
   "cell_type": "code",
   "execution_count": 28,
   "metadata": {},
   "outputs": [],
   "source": [
    "# Import data from xls file\n",
    "\n",
    "FILE_URL = 'data/fire_theft.xls'\n",
    "book = xlrd.open_workbook(FILE_URL, encoding_override='utf-8')\n",
    "sheet = book.sheet_by_index(0)\n",
    "arr = [sheet.row_values(i) for i in range(1, sheet.nrows)]\n",
    "data = np.asarray(arr)   ### format : [[x, y], [x, y], ..., [x, y]]\n",
    "nb_samples = sheet.nrows - 1"
   ]
  },
  {
   "cell_type": "code",
   "execution_count": 86,
   "metadata": {},
   "outputs": [
    {
     "name": "stdout",
     "output_type": "stream",
     "text": [
      "weight: 1.71838 \n",
      "bias: 15.7892\n"
     ]
    }
   ],
   "source": [
    "# Create placeholder for input X (number of fire) and label Y (number of theft)\n",
    "\n",
    "X = tf.placeholder(tf.float32)\n",
    "Y = tf.placeholder(tf.float32)\n",
    "\n",
    "# Create weight and bias variables\n",
    "\n",
    "w = tf.Variable(0.0, name=\"weights\")\n",
    "b = tf.Variable(0.0, name=\"bias\")\n",
    "\n",
    "# construct model to predict Y from X\n",
    "\n",
    "Y_predicted = X * w + b\n",
    "\n",
    "# Use the square error as loss function\n",
    "\n",
    "loss = tf.square(Y - Y_predicted, name=\"loss\")\n",
    "\n",
    "# Use gradient descent with learning rate of 0.01 to minize loss\n",
    "optimizer = tf.train.GradientDescentOptimizer(learning_rate=0.001).minimize(loss)\n",
    "\n",
    "with tf.Session() as s:\n",
    "    # Initialize the necessary variables (w and b)\n",
    "    s.run(tf.global_variables_initializer())\n",
    "    for i in range(100): # run 100 times\n",
    "        for x, y in data:\n",
    "            s.run(optimizer, {X: x, Y: y})\n",
    "    w_value, b_value = s.run([w, b])\n",
    "    print 'weight:',w_value, '\\nbias:', b_value"
   ]
  },
  {
   "cell_type": "code",
   "execution_count": 87,
   "metadata": {
    "scrolled": true
   },
   "outputs": [
    {
     "data": {
      "image/png": "[encoded data removed]",
      "text/plain": [
       "<matplotlib.figure.Figure at 0x7f716c016e10>"
      ]
     },
     "metadata": {},
     "output_type": "display_data"
    }
   ],
   "source": [
    "# Create a plot \n",
    "X, Y = data.T[0], data.T[1]\n",
    "w, b = w_value, b_value\n",
    "plt.plot(X, Y, 'bo', label='Real data')\n",
    "plt.plot(X, X * w + b, 'r', label='Predicted data')\n",
    "plt.legend()\n",
    "plt.show()"
   ]
  },
  {
   "cell_type": "markdown",
   "metadata": {},
   "source": [
    "We see that our model does not perfectly fit the data."
   ]
  }
 ],
 "metadata": {
  "kernelspec": {
   "display_name": "Python 2",
   "language": "python",
   "name": "python2"
  },
  "language_info": {
   "codemirror_mode": {
    "name": "ipython",
    "version": 2
   },
   "file_extension": ".py",
   "mimetype": "text/x-python",
   "name": "python",
   "nbconvert_exporter": "python",
   "pygments_lexer": "ipython2",
   "version": "2.7.13"
  }
 },
 "nbformat": 4,
 "nbformat_minor": 2
}
